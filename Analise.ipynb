{
 "cells": [
  {
   "cell_type": "markdown",
   "id": "243f0a0d-b0bd-4589-a4b3-61f3da19b677",
   "metadata": {
    "tags": []
   },
   "source": [
    "# Analise de dados - Study Case Petlove"
   ]
  },
  {
   "cell_type": "markdown",
   "id": "114d83d6-5561-482e-9803-8c9d34c83e0d",
   "metadata": {
    "tags": []
   },
   "source": [
    "## Importando os dados e fazendo configurações nos dados"
   ]
  },
  {
   "cell_type": "code",
   "execution_count": 2,
   "id": "474a0190-fe78-4d3b-88cb-3cb644893fef",
   "metadata": {},
   "outputs": [],
   "source": [
    "#Import das bibliotecas necessarias\n",
    "\n",
    "import pandas as pd\n",
    "import matplotlib.pyplot as plt\n",
    "import scipy as sp\n",
    "import seaborn as sns\n",
    "import numpy as np\n",
    "import sklearn\n",
    "from sklearn.preprocessing import LabelEncoder\n",
    "from sklearn.preprocessing import StandardScaler\n",
    "from sklearn.metrics import classification_report\n",
    "from sklearn.linear_model import LogisticRegression\n",
    "from sklearn.model_selection import train_test_split"
   ]
  },
  {
   "cell_type": "code",
   "execution_count": 3,
   "id": "2b9734e1-5aa9-4012-bc2d-99032a3ec056",
   "metadata": {},
   "outputs": [],
   "source": [
    "#lista da definicao das colunas do arquivo\n",
    "\n",
    "explain = {\n",
    "    \"id\" : \"Identificação do cliente\",\n",
    "    \"created_at\" : \"Data de criação da assinatura\",\n",
    "    \"updated_at\" : \"Data da última modificação da assinatura\",\n",
    "    \"deleted_at\" : \"Data de cancelamento da assinatura\",\n",
    "    \"name_hash\" : \"Nome do usuário (criptografado)\",\n",
    "    \"email_hash\" : \"Email (criptografado)\",\n",
    "    \"address_hash\" : \"Endereço (criptografado)\",\n",
    "    \"birth_date\" : \"Data de aniversário do cliente\",\n",
    "    \"status\" : \"Status da assinatura\",\n",
    "    \"version\" : \"Versão da assinatura\",\n",
    "    \"city\" : \"Cidade do cliente\",\n",
    "    \"state\" : \"Estado do cliente\",\n",
    "    \"neighborhood\" : \"Bairro do cliente\",\n",
    "    \"last_date_purchase\" : \"Data do último pedido que ocorreu pela assinatura\",\n",
    "    \"average_ticket\" : \"Média de gasto por pedido\",\n",
    "    \"items_quantity\" : \"Média de itens na assinatura\",\n",
    "    \"all_revenue\" : \"Total de receita realizado pelo cliente\",\n",
    "    \"all_orders\" : \"Total de pedidos realizado pelo cliente\",\n",
    "    \"recency\" : \"Tempo desde a última compra do cliente\",\n",
    "    \"marketing_source\" : \"Canal de marketing que converteu a assinatura\"    \n",
    "}"
   ]
  },
  {
   "cell_type": "code",
   "execution_count": 4,
   "id": "6caeb7d9-17cc-4551-9df5-a161d0adb1c2",
   "metadata": {},
   "outputs": [],
   "source": [
    "#Realizando a importacao dos dados\n",
    "df = pd.read_csv('data-test-analytics.csv')"
   ]
  },
  {
   "cell_type": "code",
   "execution_count": 5,
   "id": "7d41f363-ef6c-438d-bf19-17ae865e7e32",
   "metadata": {},
   "outputs": [
    {
     "data": {
      "text/html": [
       "<div>\n",
       "<style scoped>\n",
       "    .dataframe tbody tr th:only-of-type {\n",
       "        vertical-align: middle;\n",
       "    }\n",
       "\n",
       "    .dataframe tbody tr th {\n",
       "        vertical-align: top;\n",
       "    }\n",
       "\n",
       "    .dataframe thead th {\n",
       "        text-align: right;\n",
       "    }\n",
       "</style>\n",
       "<table border=\"1\" class=\"dataframe\">\n",
       "  <thead>\n",
       "    <tr style=\"text-align: right;\">\n",
       "      <th></th>\n",
       "      <th>id</th>\n",
       "      <th>created_at</th>\n",
       "      <th>updated_at</th>\n",
       "      <th>deleted_at</th>\n",
       "      <th>name_hash</th>\n",
       "      <th>email_hash</th>\n",
       "      <th>address_hash</th>\n",
       "      <th>birth_date</th>\n",
       "      <th>status</th>\n",
       "      <th>version</th>\n",
       "      <th>city</th>\n",
       "      <th>state</th>\n",
       "      <th>neighborhood</th>\n",
       "      <th>last_date_purchase</th>\n",
       "      <th>average_ticket</th>\n",
       "      <th>items_quantity</th>\n",
       "      <th>all_revenue</th>\n",
       "      <th>all_orders</th>\n",
       "      <th>recency</th>\n",
       "      <th>marketing_source</th>\n",
       "    </tr>\n",
       "  </thead>\n",
       "  <tbody>\n",
       "    <tr>\n",
       "      <th>0</th>\n",
       "      <td>8bf7960e-3b93-468b-856e-6c6c5b56f52b</td>\n",
       "      <td>08/15/17 07:05 AM</td>\n",
       "      <td>01/14/21 11:23 AM</td>\n",
       "      <td>NaN</td>\n",
       "      <td>312d206168a318614897e8ccac43bff9</td>\n",
       "      <td>83eb3aed9a44377df80ce876dce92c9a</td>\n",
       "      <td>8b4bfaa0cbc41a16f46da15ddcd6a907</td>\n",
       "      <td>07/10/74 12:00 AM</td>\n",
       "      <td>active</td>\n",
       "      <td>2.31.7</td>\n",
       "      <td>Peixoto da Praia</td>\n",
       "      <td>AM</td>\n",
       "      <td>Aparecida 7ª Seção</td>\n",
       "      <td>01/14/21 11:23 AM</td>\n",
       "      <td>151.142942</td>\n",
       "      <td>10</td>\n",
       "      <td>906.857651</td>\n",
       "      <td>6</td>\n",
       "      <td>35</td>\n",
       "      <td>crm</td>\n",
       "    </tr>\n",
       "    <tr>\n",
       "      <th>1</th>\n",
       "      <td>a39535b5-4647-4680-b4f6-3aed57c1f1ff</td>\n",
       "      <td>12/31/19 09:53 PM</td>\n",
       "      <td>01/08/21 11:23 AM</td>\n",
       "      <td>NaN</td>\n",
       "      <td>de448fcb47d0d6a873b2eef52b5ee595</td>\n",
       "      <td>72678bb35e2ac84ed373e81dd9dca28c</td>\n",
       "      <td>22f1cfa1847f38da3f3cb114dd2b9247</td>\n",
       "      <td>07/06/40 12:00 AM</td>\n",
       "      <td>paused</td>\n",
       "      <td>3.30.12</td>\n",
       "      <td>Fernandes</td>\n",
       "      <td>RR</td>\n",
       "      <td>Santa Isabel</td>\n",
       "      <td>01/08/21 11:23 AM</td>\n",
       "      <td>236.991790</td>\n",
       "      <td>4</td>\n",
       "      <td>236.991790</td>\n",
       "      <td>1</td>\n",
       "      <td>41</td>\n",
       "      <td>organic_search</td>\n",
       "    </tr>\n",
       "  </tbody>\n",
       "</table>\n",
       "</div>"
      ],
      "text/plain": [
       "                                     id         created_at         updated_at  \\\n",
       "0  8bf7960e-3b93-468b-856e-6c6c5b56f52b  08/15/17 07:05 AM  01/14/21 11:23 AM   \n",
       "1  a39535b5-4647-4680-b4f6-3aed57c1f1ff  12/31/19 09:53 PM  01/08/21 11:23 AM   \n",
       "\n",
       "  deleted_at                         name_hash  \\\n",
       "0        NaN  312d206168a318614897e8ccac43bff9   \n",
       "1        NaN  de448fcb47d0d6a873b2eef52b5ee595   \n",
       "\n",
       "                         email_hash                      address_hash  \\\n",
       "0  83eb3aed9a44377df80ce876dce92c9a  8b4bfaa0cbc41a16f46da15ddcd6a907   \n",
       "1  72678bb35e2ac84ed373e81dd9dca28c  22f1cfa1847f38da3f3cb114dd2b9247   \n",
       "\n",
       "          birth_date  status  version               city state  \\\n",
       "0  07/10/74 12:00 AM  active   2.31.7   Peixoto da Praia    AM   \n",
       "1  07/06/40 12:00 AM  paused  3.30.12          Fernandes    RR   \n",
       "\n",
       "         neighborhood last_date_purchase  average_ticket  items_quantity  \\\n",
       "0  Aparecida 7ª Seção  01/14/21 11:23 AM      151.142942              10   \n",
       "1        Santa Isabel  01/08/21 11:23 AM      236.991790               4   \n",
       "\n",
       "   all_revenue  all_orders  recency marketing_source  \n",
       "0   906.857651           6       35              crm  \n",
       "1   236.991790           1       41   organic_search  "
      ]
     },
     "execution_count": 5,
     "metadata": {},
     "output_type": "execute_result"
    }
   ],
   "source": [
    "#observando a estrutura dos dados\n",
    "df.head(2)"
   ]
  },
  {
   "cell_type": "code",
   "execution_count": 6,
   "id": "fd85fca3-53ab-4c50-904f-7f7ec5990024",
   "metadata": {},
   "outputs": [],
   "source": [
    "#alterando as colunas de criação da assinatura e dele\n",
    "df['created_at'] = pd.to_datetime(df['created_at'])\n",
    "df['updated_at'] = pd.to_datetime(df['updated_at'])\n",
    "df['deleted_at'] = pd.to_datetime(df['deleted_at'])\n",
    "df['last_date_purchase'] = pd.to_datetime(df['last_date_purchase'])"
   ]
  },
  {
   "cell_type": "code",
   "execution_count": 7,
   "id": "4012d614-69a7-4095-b655-9027bc359be1",
   "metadata": {},
   "outputs": [
    {
     "data": {
      "text/plain": [
       "(10000, 20)"
      ]
     },
     "execution_count": 7,
     "metadata": {},
     "output_type": "execute_result"
    }
   ],
   "source": [
    "#Mostra numero de colunas e linhas\n",
    "\n",
    "df.shape"
   ]
  },
  {
   "cell_type": "code",
   "execution_count": 8,
   "id": "afeec24d-79c9-4bf7-97c0-3980a9a2c3c9",
   "metadata": {},
   "outputs": [
    {
     "data": {
      "text/plain": [
       "array(['id', 'created_at', 'updated_at', 'deleted_at', 'name_hash',\n",
       "       'email_hash', 'address_hash', 'birth_date', 'status', 'version',\n",
       "       'city', 'state', 'neighborhood', 'last_date_purchase',\n",
       "       'average_ticket', 'items_quantity', 'all_revenue', 'all_orders',\n",
       "       'recency', 'marketing_source'], dtype=object)"
      ]
     },
     "execution_count": 8,
     "metadata": {},
     "output_type": "execute_result"
    }
   ],
   "source": [
    "#Mostra os nomes das colunas \n",
    "\n",
    "df.columns.values"
   ]
  },
  {
   "cell_type": "code",
   "execution_count": 9,
   "id": "b3068405-5c3f-4f4a-8402-b52c1d5aa79f",
   "metadata": {},
   "outputs": [
    {
     "data": {
      "text/plain": [
       "id                       0\n",
       "created_at               0\n",
       "updated_at               0\n",
       "deleted_at            9495\n",
       "name_hash                0\n",
       "email_hash               0\n",
       "address_hash             0\n",
       "birth_date               0\n",
       "status                   0\n",
       "version                  0\n",
       "city                     0\n",
       "state                    0\n",
       "neighborhood             0\n",
       "last_date_purchase       0\n",
       "average_ticket           0\n",
       "items_quantity           0\n",
       "all_revenue              0\n",
       "all_orders               0\n",
       "recency                  0\n",
       "marketing_source         0\n",
       "dtype: int64"
      ]
     },
     "execution_count": 9,
     "metadata": {},
     "output_type": "execute_result"
    }
   ],
   "source": [
    "#Chegando por dados nulos\n",
    "\n",
    "df.isna().sum()"
   ]
  },
  {
   "cell_type": "markdown",
   "id": "f05fc690-22e9-4297-865e-006a0a6e9e4a",
   "metadata": {
    "tags": []
   },
   "source": [
    "## Analisando informações gerais"
   ]
  },
  {
   "cell_type": "code",
   "execution_count": 10,
   "id": "2ab3c583-526d-4b0e-934f-cd3fcfead5c1",
   "metadata": {},
   "outputs": [
    {
     "data": {
      "text/html": [
       "<div>\n",
       "<style scoped>\n",
       "    .dataframe tbody tr th:only-of-type {\n",
       "        vertical-align: middle;\n",
       "    }\n",
       "\n",
       "    .dataframe tbody tr th {\n",
       "        vertical-align: top;\n",
       "    }\n",
       "\n",
       "    .dataframe thead th {\n",
       "        text-align: right;\n",
       "    }\n",
       "</style>\n",
       "<table border=\"1\" class=\"dataframe\">\n",
       "  <thead>\n",
       "    <tr style=\"text-align: right;\">\n",
       "      <th></th>\n",
       "      <th>average_ticket</th>\n",
       "      <th>items_quantity</th>\n",
       "      <th>all_revenue</th>\n",
       "      <th>all_orders</th>\n",
       "      <th>recency</th>\n",
       "    </tr>\n",
       "  </thead>\n",
       "  <tbody>\n",
       "    <tr>\n",
       "      <th>count</th>\n",
       "      <td>10000.000000</td>\n",
       "      <td>10000.00000</td>\n",
       "      <td>10000.000000</td>\n",
       "      <td>10000.000000</td>\n",
       "      <td>10000.000000</td>\n",
       "    </tr>\n",
       "    <tr>\n",
       "      <th>mean</th>\n",
       "      <td>216.894709</td>\n",
       "      <td>8.49980</td>\n",
       "      <td>1174.888603</td>\n",
       "      <td>5.415400</td>\n",
       "      <td>67.192900</td>\n",
       "    </tr>\n",
       "    <tr>\n",
       "      <th>std</th>\n",
       "      <td>22.757213</td>\n",
       "      <td>3.02604</td>\n",
       "      <td>763.141973</td>\n",
       "      <td>3.457577</td>\n",
       "      <td>175.723276</td>\n",
       "    </tr>\n",
       "    <tr>\n",
       "      <th>min</th>\n",
       "      <td>131.378672</td>\n",
       "      <td>1.00000</td>\n",
       "      <td>0.000000</td>\n",
       "      <td>0.000000</td>\n",
       "      <td>1.000000</td>\n",
       "    </tr>\n",
       "    <tr>\n",
       "      <th>25%</th>\n",
       "      <td>201.398851</td>\n",
       "      <td>6.00000</td>\n",
       "      <td>494.873564</td>\n",
       "      <td>2.000000</td>\n",
       "      <td>31.000000</td>\n",
       "    </tr>\n",
       "    <tr>\n",
       "      <th>50%</th>\n",
       "      <td>217.019478</td>\n",
       "      <td>8.00000</td>\n",
       "      <td>1172.751918</td>\n",
       "      <td>5.000000</td>\n",
       "      <td>35.000000</td>\n",
       "    </tr>\n",
       "    <tr>\n",
       "      <th>75%</th>\n",
       "      <td>232.455042</td>\n",
       "      <td>11.00000</td>\n",
       "      <td>1798.475045</td>\n",
       "      <td>8.000000</td>\n",
       "      <td>39.000000</td>\n",
       "    </tr>\n",
       "    <tr>\n",
       "      <th>max</th>\n",
       "      <td>303.386848</td>\n",
       "      <td>19.00000</td>\n",
       "      <td>3225.654163</td>\n",
       "      <td>11.000000</td>\n",
       "      <td>1820.000000</td>\n",
       "    </tr>\n",
       "  </tbody>\n",
       "</table>\n",
       "</div>"
      ],
      "text/plain": [
       "       average_ticket  items_quantity   all_revenue    all_orders  \\\n",
       "count    10000.000000     10000.00000  10000.000000  10000.000000   \n",
       "mean       216.894709         8.49980   1174.888603      5.415400   \n",
       "std         22.757213         3.02604    763.141973      3.457577   \n",
       "min        131.378672         1.00000      0.000000      0.000000   \n",
       "25%        201.398851         6.00000    494.873564      2.000000   \n",
       "50%        217.019478         8.00000   1172.751918      5.000000   \n",
       "75%        232.455042        11.00000   1798.475045      8.000000   \n",
       "max        303.386848        19.00000   3225.654163     11.000000   \n",
       "\n",
       "            recency  \n",
       "count  10000.000000  \n",
       "mean      67.192900  \n",
       "std      175.723276  \n",
       "min        1.000000  \n",
       "25%       31.000000  \n",
       "50%       35.000000  \n",
       "75%       39.000000  \n",
       "max     1820.000000  "
      ]
     },
     "execution_count": 10,
     "metadata": {},
     "output_type": "execute_result"
    }
   ],
   "source": [
    "#algumas estatisticas dos dados\n",
    "df.describe()"
   ]
  },
  {
   "cell_type": "code",
   "execution_count": 11,
   "id": "17abbb72-8534-4e99-8031-9d57051fedb8",
   "metadata": {},
   "outputs": [
    {
     "data": {
      "text/plain": [
       "active      8524\n",
       "paused       971\n",
       "canceled     505\n",
       "Name: status, dtype: int64"
      ]
     },
     "execution_count": 11,
     "metadata": {},
     "output_type": "execute_result"
    }
   ],
   "source": [
    "#numero de assinaturas canceladas\n",
    "df['status'].value_counts()"
   ]
  },
  {
   "cell_type": "code",
   "execution_count": 12,
   "id": "3b004189-b541-43aa-a009-448a8f3ad814",
   "metadata": {},
   "outputs": [
    {
     "data": {
      "text/plain": [
       "<AxesSubplot:xlabel='status', ylabel='count'>"
      ]
     },
     "execution_count": 12,
     "metadata": {},
     "output_type": "execute_result"
    },
    {
     "data": {
      "image/png": "[encoded data removed]",
      "text/plain": [
       "<Figure size 432x288 with 1 Axes>"
      ]
     },
     "metadata": {
      "needs_background": "light"
     },
     "output_type": "display_data"
    }
   ],
   "source": [
    "#visualizando a contagem dos assinantes, não assinantes e assinaturas pausadas\n",
    "sns.countplot(x=df['status'])"
   ]
  },
  {
   "cell_type": "code",
   "execution_count": 13,
   "id": "44c4e2c8-71c1-4f0a-b12d-7bddec5c8a68",
   "metadata": {},
   "outputs": [
    {
     "name": "stdout",
     "output_type": "stream",
     "text": [
      "     85.24% de clientes que manteram sua assinatura\n",
      "      9.71% de clientes que pausaram sua assinatura\n",
      "      5.05% de clientes cancelaram sua assinatura\n",
      "Dados até a data de 2021\n"
     ]
    }
   ],
   "source": [
    "#qual a porcentagem dos status dos clientes?\n",
    "num_assinantes = df[df.status == 'active'].shape[0]\n",
    "num_pausados = df[df.status == 'paused'].shape[0]\n",
    "num_churn = df[df.status == 'canceled'].shape[0]\n",
    "\n",
    "print('{:10.2f}% de clientes que manteram sua assinatura'.format(num_assinantes / (num_churn + num_assinantes + num_pausados) * 100))\n",
    "\n",
    "print('{:10.2f}% de clientes que pausaram sua assinatura'.format(num_pausados / (num_churn + num_assinantes + num_pausados) * 100))\n",
    "\n",
    "print('{:10.2f}% de clientes cancelaram sua assinatura'.format(num_churn / (num_churn + num_assinantes + num_pausados) * 100))\n",
    "\n",
    "print('Dados até a data de {}'.format(df['created_at'].max().year))"
   ]
  },
  {
   "cell_type": "markdown",
   "id": "c211c112-b88c-43cc-8665-d43753061aae",
   "metadata": {},
   "source": [
    "As colunas que entregam informações de data encontram-se no formato String. Assim para podermos trabalhar com o tipo data, geramos um novo data frame para nossa análise. "
   ]
  },
  {
   "cell_type": "markdown",
   "id": "5b8be029-c106-434c-a8cf-4bee5a63c473",
   "metadata": {
    "tags": []
   },
   "source": [
    "## Comparação entre os 3 status"
   ]
  },
  {
   "cell_type": "code",
   "execution_count": 14,
   "id": "bfc63738-3807-4b04-b451-467f6acf9303",
   "metadata": {},
   "outputs": [
    {
     "data": {
      "image/png": "[encoded data removed]",
      "text/plain": [
       "<Figure size 2016x576 with 3 Axes>"
      ]
     },
     "metadata": {
      "needs_background": "light"
     },
     "output_type": "display_data"
    },
    {
     "data": {
      "text/plain": [
       "<Figure size 2016x576 with 0 Axes>"
      ]
     },
     "metadata": {},
     "output_type": "display_data"
    }
   ],
   "source": [
    "#distribuição dos contas canceladas em total de pedidos, média de gasto por pedido, quantidade de itens pedidos\n",
    "\n",
    "categorias_numericas = ['all_orders', 'average_ticket','items_quantity']\n",
    "\n",
    "fig, ax = plt.subplots(1, 3, figsize = (28,8))\n",
    "plt.figure(figsize=(28,8))\n",
    "df[df.status == 'active'][categorias_numericas].hist(bins = 10, color ='red',  alpha =0.5, ax=ax)\n",
    "df[df.status == 'paused'][categorias_numericas].hist(bins = 10,  color = 'orange',  alpha =0.5, ax=ax)\n",
    "df[df.status == 'canceled'][categorias_numericas].hist(bins = 10, color = 'blue', alpha =0.5, ax=ax)\n",
    "plt.show()"
   ]
  },
  {
   "cell_type": "code",
   "execution_count": 15,
   "id": "5d716fd7-6e3b-42c8-b64d-4d89336ed01e",
   "metadata": {},
   "outputs": [
    {
     "data": {
      "text/plain": [
       "all_orders          5.444510\n",
       "average_ticket    216.732335\n",
       "items_quantity      8.477710\n",
       "dtype: float64"
      ]
     },
     "execution_count": 15,
     "metadata": {},
     "output_type": "execute_result"
    }
   ],
   "source": [
    "df[df.status == 'active'][categorias_numericas].mean()"
   ]
  },
  {
   "cell_type": "code",
   "execution_count": 16,
   "id": "2fcfcaaf-231a-4829-9322-2bd0a518f4fd",
   "metadata": {},
   "outputs": [
    {
     "data": {
      "text/plain": [
       "all_orders          5.450051\n",
       "average_ticket    218.037307\n",
       "items_quantity      8.616890\n",
       "dtype: float64"
      ]
     },
     "execution_count": 16,
     "metadata": {},
     "output_type": "execute_result"
    }
   ],
   "source": [
    "df[df.status == 'paused'][categorias_numericas].mean()"
   ]
  },
  {
   "cell_type": "code",
   "execution_count": 17,
   "id": "c3b36744-ae1a-4a78-9c4e-8a1e6b7fe41e",
   "metadata": {},
   "outputs": [
    {
     "data": {
      "text/plain": [
       "all_orders          4.857426\n",
       "average_ticket    217.438501\n",
       "items_quantity      8.647525\n",
       "dtype: float64"
      ]
     },
     "execution_count": 17,
     "metadata": {},
     "output_type": "execute_result"
    }
   ],
   "source": [
    "df[df.status == 'canceled'][categorias_numericas].mean()"
   ]
  },
  {
   "cell_type": "code",
   "execution_count": 18,
   "id": "874b63fe-21ea-4746-ab6a-0bd6e92b1415",
   "metadata": {},
   "outputs": [
    {
     "data": {
      "image/png": "[encoded data removed]",
      "text/plain": [
       "<Figure size 1008x576 with 1 Axes>"
      ]
     },
     "metadata": {
      "needs_background": "light"
     },
     "output_type": "display_data"
    }
   ],
   "source": [
    "#distribuicao da receita gerada dos três status\n",
    "\n",
    "plt.figure(figsize=(14,8))\n",
    "df[df.status == 'active']['all_revenue'].hist(bins = 10, color ='red',  alpha =0.5, label = 'ativos')\n",
    "df[df.status == 'paused']['all_revenue'].hist(bins = 10,  color = 'orange',  alpha =0.5, label = 'pausados')\n",
    "df[df.status == 'canceled']['all_revenue'].hist(bins = 10, color = 'blue', alpha =0.5,label = 'cancelados')\n",
    "plt.legend()\n",
    "plt.show()"
   ]
  },
  {
   "cell_type": "code",
   "execution_count": 19,
   "id": "1e50cd8b-8bb7-4631-969c-fb4718538608",
   "metadata": {},
   "outputs": [
    {
     "data": {
      "image/png": "[encoded data removed]",
      "text/plain": [
       "<Figure size 1008x576 with 1 Axes>"
      ]
     },
     "metadata": {
      "needs_background": "light"
     },
     "output_type": "display_data"
    }
   ],
   "source": [
    "#distribuição dos status da assinatura pela fonte de marketing\n",
    "plt.figure(figsize=(14,8))\n",
    "sns.countplot( x = 'marketing_source', hue = 'status' , data = df)\n",
    "plt.title('Distribuição da fonte de marketing pelo status')\n",
    "plt.xlabel('Fonte de marketing')\n",
    "plt.ylabel('Contagem')\n",
    "plt.show()"
   ]
  },
  {
   "cell_type": "code",
   "execution_count": 20,
   "id": "240236d9-9a4a-48ac-9495-1aa25227920d",
   "metadata": {},
   "outputs": [
    {
     "data": {
      "image/png": "[encoded data removed]",
      "text/plain": [
       "<Figure size 1152x720 with 1 Axes>"
      ]
     },
     "metadata": {
      "needs_background": "light"
     },
     "output_type": "display_data"
    }
   ],
   "source": [
    "#distribuição dos status pelos estados\n",
    "plt.figure(figsize=(16,10))\n",
    "sns.countplot( x = 'state', hue = 'status' , data = df)\n",
    "plt.title('Distribuição dos status pelos estados')\n",
    "plt.xlabel('Estados')\n",
    "plt.ylabel('Contagem')\n",
    "plt.show()"
   ]
  },
  {
   "cell_type": "code",
   "execution_count": 21,
   "id": "f1987aca-2f5e-43e5-8fbc-7abb3bfb8783",
   "metadata": {},
   "outputs": [
    {
     "data": {
      "text/plain": [
       "4.26.7     24\n",
       "3.25.9     22\n",
       "4.27.7     22\n",
       "4.23.8     20\n",
       "3.28.7     20\n",
       "           ..\n",
       "2.48.12     1\n",
       "6.22.12     1\n",
       "4.46.7      1\n",
       "6.9.6       1\n",
       "5.51.6      1\n",
       "Name: version, Length: 2905, dtype: int64"
      ]
     },
     "execution_count": 21,
     "metadata": {},
     "output_type": "execute_result"
    }
   ],
   "source": [
    "df['version'].value_counts() #dados muito dispersos"
   ]
  },
  {
   "cell_type": "markdown",
   "id": "4253c509-50bb-4130-a1c5-227142e0c3b5",
   "metadata": {
    "tags": []
   },
   "source": [
    "## Estudo do perfil dos clientes com status cancelados(Churn)"
   ]
  },
  {
   "cell_type": "code",
   "execution_count": 22,
   "id": "54f0e697-e43a-41ea-b1b3-5f3da2774248",
   "metadata": {},
   "outputs": [
    {
     "data": {
      "image/png": "[encoded data removed]",
      "text/plain": [
       "<Figure size 1008x576 with 1 Axes>"
      ]
     },
     "metadata": {
      "needs_background": "light"
     },
     "output_type": "display_data"
    }
   ],
   "source": [
    "# distribuição dos cancelamentos de assinatura pelos anos\n",
    "plt.figure(figsize = (14,8))\n",
    "sns.countplot(x = pd.DatetimeIndex(df.query('status == \"canceled\"')['deleted_at']).year)\n",
    "plt.title('Assinaturas canceladas nos anos')\n",
    "plt.xlabel('Anos')\n",
    "plt.ylabel('Cancelamentos')\n",
    "plt.show() "
   ]
  },
  {
   "cell_type": "code",
   "execution_count": 31,
   "id": "dff2551b-58db-4c10-9bdd-d03f74b142e4",
   "metadata": {},
   "outputs": [
    {
     "data": {
      "image/png": "[encoded data removed]",
      "text/plain": [
       "<Figure size 1008x576 with 1 Axes>"
      ]
     },
     "metadata": {
      "needs_background": "light"
     },
     "output_type": "display_data"
    }
   ],
   "source": [
    "# distribuição dos cancelamentos de assinatura pelos anos\n",
    "plt.figure(figsize = (14,8))\n",
    "sns.countplot(x = pd.DatetimeIndex(df.query('status == \"active\"')['created_at']).year)\n",
    "plt.title('Assinaturas canceladas nos anos')\n",
    "plt.xlabel('Anos')\n",
    "plt.ylabel('Cancelamentos')\n",
    "plt.show() "
   ]
  },
  {
   "cell_type": "code",
   "execution_count": 23,
   "id": "4ae46b43-c640-41c7-bab7-1ccbc5dfd3f3",
   "metadata": {},
   "outputs": [
    {
     "data": {
      "image/png": "[encoded data removed]",
      "text/plain": [
       "<Figure size 1008x576 with 1 Axes>"
      ]
     },
     "metadata": {
      "needs_background": "light"
     },
     "output_type": "display_data"
    }
   ],
   "source": [
    "#distribuição do cancelamento de assinaturas pelos meses\n",
    "plt.figure(figsize = (14,8))\n",
    "sns.countplot(x = pd.DatetimeIndex(df.query('status == \"canceled\"')['deleted_at']).month)\n",
    "plt.title('Distribuição dos cancelamentos de assinaturas pelos meses do ano')\n",
    "plt.xlabel('Meses')\n",
    "plt.ylabel('Assinaturas canceladas')\n",
    "plt.show()"
   ]
  },
  {
   "cell_type": "code",
   "execution_count": 24,
   "id": "b3bf9a6e-a05d-4fde-9d93-265698669ddf",
   "metadata": {},
   "outputs": [
    {
     "data": {
      "image/png": "[encoded data removed]",
      "text/plain": [
       "<Figure size 1008x576 with 1 Axes>"
      ]
     },
     "metadata": {
      "needs_background": "light"
     },
     "output_type": "display_data"
    }
   ],
   "source": [
    "#cancelamento de assinaturas em 2020\n",
    "plt.figure(figsize = (14,8))\n",
    "sns.countplot(x = pd.DatetimeIndex(df.query('status == \"canceled\"').loc[(df['deleted_at'] >= '2020') & (df['deleted_at'] < '2021')]['deleted_at']).month)\n",
    "plt.title('Cancelamento de assinaturas pelo ano de 2020')\n",
    "plt.xlabel('Meses')\n",
    "plt.ylabel('Cancelamentos de assinaturas')\n",
    "plt.show()"
   ]
  },
  {
   "cell_type": "code",
   "execution_count": 25,
   "id": "3ffb60d7-ffda-4ca0-b798-770137671617",
   "metadata": {},
   "outputs": [
    {
     "data": {
      "image/png": "[encoded data removed]",
      "text/plain": [
       "<Figure size 1008x576 with 1 Axes>"
      ]
     },
     "metadata": {
      "needs_background": "light"
     },
     "output_type": "display_data"
    }
   ],
   "source": [
    "#criação de assinaturas em 2020\n",
    "plt.figure(figsize = (14,8))\n",
    "sns.countplot(x = pd.DatetimeIndex(df.query('status == \"canceled\"').loc[(df['created_at'] >= '2020') & (df['created_at'] <'2021')]['created_at']).month)\n",
    "plt.title('Assinaturas criadas durante o ano de 2020')\n",
    "plt.xlabel('Meses')\n",
    "plt.ylabel('Assinaturas feitas')\n",
    "plt.show()"
   ]
  },
  {
   "cell_type": "code",
   "execution_count": 27,
   "id": "4ae786e1-3a43-44d0-9bd2-2c4af90d811b",
   "metadata": {},
   "outputs": [
    {
     "data": {
      "image/png": "[encoded data removed]",
      "text/plain": [
       "<Figure size 1008x576 with 1 Axes>"
      ]
     },
     "metadata": {
      "needs_background": "light"
     },
     "output_type": "display_data"
    }
   ],
   "source": [
    "#criação de assinaturas em 2020\n",
    "plt.figure(figsize = (14,8))\n",
    "sns.countplot(x = pd.DatetimeIndex(df.query('status == \"canceled\"').loc[(df['created_at'] >= '2019') & (df['created_at'] <'2020')]['created_at']).month)\n",
    "plt.title('Assinaturas criadas durante o ano de 2019')\n",
    "plt.xlabel('Meses')\n",
    "plt.ylabel('Assinaturas feitas')\n",
    "plt.show()"
   ]
  },
  {
   "cell_type": "markdown",
   "id": "e9358522-85d1-4b76-9433-2b156f49f18d",
   "metadata": {},
   "source": [
    "Podemos observar que o período de maior evasão do ano de 2020 foi em Dezembro, aliado ao menor período de aberturas de assinaturas."
   ]
  },
  {
   "cell_type": "code",
   "execution_count": 88,
   "id": "0ccc9e86-2bd8-4771-9ea1-ffbd46309053",
   "metadata": {},
   "outputs": [
    {
     "data": {
      "text/plain": [
       "'Média de gasto por pedido'"
      ]
     },
     "execution_count": 88,
     "metadata": {},
     "output_type": "execute_result"
    }
   ],
   "source": [
    "explain['average_ticket']"
   ]
  },
  {
   "cell_type": "code",
   "execution_count": 37,
   "id": "b46d0b45-0919-4d90-8ac6-37c44701d174",
   "metadata": {},
   "outputs": [
    {
     "data": {
      "image/png": "[encoded data removed]",
      "text/plain": [
       "<Figure size 1008x576 with 1 Axes>"
      ]
     },
     "metadata": {
      "needs_background": "light"
     },
     "output_type": "display_data"
    }
   ],
   "source": [
    "#tempo do inicio da assinatura até o cancelamento\n",
    "plt.figure(figsize=(14,8))\n",
    "(df.query('status == \"canceled\"')['deleted_at'] - df.query('status == \"canceled\"')['last_date_purchase']).dt.days.hist(bins=30)\n",
    "plt.title('Tempo entre a última compra até o cancelmaneto')\n",
    "plt.xlabel('Dias')\n",
    "plt.ylabel('Contagem')\n",
    "plt.show()"
   ]
  },
  {
   "cell_type": "code",
   "execution_count": 38,
   "id": "63e63b49-c965-468f-9936-56c3c349029f",
   "metadata": {},
   "outputs": [
    {
     "data": {
      "image/png": "[encoded data removed]",
      "text/plain": [
       "<Figure size 1008x576 with 1 Axes>"
      ]
     },
     "metadata": {
      "needs_background": "light"
     },
     "output_type": "display_data"
    }
   ],
   "source": [
    "plt.figure(figsize=(14,8))\n",
    "(df.query('status == \"canceled\"')['deleted_at'] - df.query('status == \"canceled\"')['last_date_purchase']).dt.days.hist(bins=range(0,100,10))\n",
    "plt.title('Tempo entre a última compra até o cancelmaneto')\n",
    "plt.xlabel('Dias')\n",
    "plt.ylabel('Contagem')\n",
    "plt.show()"
   ]
  },
  {
   "cell_type": "markdown",
   "id": "5be42561-1672-42c4-a2ce-3a01136c766d",
   "metadata": {},
   "source": [
    "Observa-se que a maior chance da pessoa cancelar sua assinatura quando não compra pro 1 mês."
   ]
  },
  {
   "cell_type": "code",
   "execution_count": 41,
   "id": "8a491aa6-5220-4921-8027-dc4ddc746626",
   "metadata": {},
   "outputs": [
    {
     "data": {
      "image/png": "[encoded data removed]",
      "text/plain": [
       "<Figure size 1008x576 with 1 Axes>"
      ]
     },
     "metadata": {
      "needs_background": "light"
     },
     "output_type": "display_data"
    }
   ],
   "source": [
    "plt.figure(figsize=(14,8))\n",
    "df.query('status == \"canceled\"')['recency'].hist(bins=40)\n",
    "plt.title('Tempo desde a última compra do cliente')\n",
    "plt.xlabel('Dias')\n",
    "plt.ylabel('Contagem')\n",
    "plt.show()"
   ]
  },
  {
   "cell_type": "markdown",
   "id": "fb8bdde1-5fe6-4d85-af06-1de21599aba7",
   "metadata": {
    "jp-MarkdownHeadingCollapsed": true,
    "tags": []
   },
   "source": [
    "## Estudo do perfil dos clientes do ano de 2020"
   ]
  },
  {
   "cell_type": "code",
   "execution_count": 110,
   "id": "5bd88ce5-8b85-4587-818f-49c215cf69f4",
   "metadata": {},
   "outputs": [
    {
     "data": {
      "text/plain": [
       "{'id': 'Identificação do cliente',\n",
       " 'created_at': 'Data de criação da assinatura',\n",
       " 'updated_at': 'Data da última modificação da assinatura',\n",
       " 'deleted_at': 'Data de cancelamento da assinatura',\n",
       " 'name_hash': 'Nome do usuário (criptografado)',\n",
       " 'email_hash': 'Email (criptografado)',\n",
       " 'address_hash': 'Endereço (criptografado)',\n",
       " 'birth_date': 'Data de aniversário do cliente',\n",
       " 'status': 'Status da assinatura',\n",
       " 'version': 'Versão da assinatura',\n",
       " 'city': 'Cidade do cliente',\n",
       " 'state': 'Estado do cliente',\n",
       " 'neighborhood': 'Bairro do cliente',\n",
       " 'last_date_purchase': 'Data do último pedido que ocorreu pela assinatura',\n",
       " 'average_ticket': 'Média de gasto por pedido',\n",
       " 'items_quantity': 'Média de itens na assinatura',\n",
       " 'all_revenue': 'Total de receita realizado pelo cliente',\n",
       " 'all_orders': 'Total de pedidos realizado pelo cliente',\n",
       " 'recency': 'Tempo desde a última compra do cliente',\n",
       " 'marketing_source': 'Canal de marketing que converteu a assinatura'}"
      ]
     },
     "execution_count": 110,
     "metadata": {},
     "output_type": "execute_result"
    }
   ],
   "source": [
    "explain"
   ]
  },
  {
   "cell_type": "code",
   "execution_count": 111,
   "id": "c8ed740b-f6a7-4b99-9716-9eeb0e5a972d",
   "metadata": {},
   "outputs": [
    {
     "data": {
      "text/plain": [
       "<AxesSubplot:>"
      ]
     },
     "execution_count": 111,
     "metadata": {},
     "output_type": "execute_result"
    },
    {
     "data": {
      "image/png": "[encoded data removed]",
      "text/plain": [
       "<Figure size 432x288 with 1 Axes>"
      ]
     },
     "metadata": {
      "needs_background": "light"
     },
     "output_type": "display_data"
    }
   ],
   "source": [
    "plt.figure()\n",
    "df.loc[(pd.DatetimeIndex(df['deleted_at']).month >= 6) & (pd.DatetimeIndex(df['deleted_at']).year == 2020)]['average_ticket'].hist()"
   ]
  },
  {
   "cell_type": "code",
   "execution_count": 115,
   "id": "c2c9b030-8d7f-4722-a5c9-702f894e6d31",
   "metadata": {},
   "outputs": [
    {
     "data": {
      "text/plain": [
       "<AxesSubplot:xlabel='marketing_source', ylabel='count'>"
      ]
     },
     "execution_count": 115,
     "metadata": {},
     "output_type": "execute_result"
    },
    {
     "data": {
      "image/png": "[encoded data removed]",
      "text/plain": [
       "<Figure size 1008x576 with 1 Axes>"
      ]
     },
     "metadata": {
      "needs_background": "light"
     },
     "output_type": "display_data"
    }
   ],
   "source": [
    "plt.figure(figsize = (14,8))\n",
    "sns.countplot(x = df.loc[(pd.DatetimeIndex(df['deleted_at']).month >= 6) & (pd.DatetimeIndex(df['deleted_at']).year == 2020)]['marketing_source'])"
   ]
  },
  {
   "cell_type": "code",
   "execution_count": 132,
   "id": "d9e4b3e1-d73d-4a68-8398-ad4c3e4c8694",
   "metadata": {},
   "outputs": [
    {
     "data": {
      "image/png": "[encoded data removed]",
      "text/plain": [
       "<Figure size 1008x576 with 1 Axes>"
      ]
     },
     "metadata": {
      "needs_background": "light"
     },
     "output_type": "display_data"
    }
   ],
   "source": [
    "plt.figure(figsize = (14,8))\n",
    "df.loc[(pd.DatetimeIndex(df['deleted_at']).month >= 6) & (pd.DatetimeIndex(df['deleted_at']).year == 2020)]['all_orders'].hist(bins=10)\n",
    "plt.show()"
   ]
  },
  {
   "cell_type": "code",
   "execution_count": 138,
   "id": "3ffde78e-211e-46dc-92f0-723d80a15e56",
   "metadata": {},
   "outputs": [
    {
     "data": {
      "image/png": "[encoded data removed]",
      "text/plain": [
       "<Figure size 1008x576 with 1 Axes>"
      ]
     },
     "metadata": {
      "needs_background": "light"
     },
     "output_type": "display_data"
    }
   ],
   "source": [
    "plt.figure(figsize = (14,8))\n",
    "df.loc[(pd.DatetimeIndex(df['deleted_at']).month >= 6) & (pd.DatetimeIndex(df['deleted_at']).year == 2020)]['all_revenue'].hist(bins=20)\n",
    "plt.show()"
   ]
  },
  {
   "cell_type": "code",
   "execution_count": 163,
   "id": "4c430367-fe44-4091-a239-f0f9a984b918",
   "metadata": {},
   "outputs": [
    {
     "data": {
      "image/png": "[encoded data removed]",
      "text/plain": [
       "<Figure size 1008x576 with 1 Axes>"
      ]
     },
     "metadata": {
      "needs_background": "light"
     },
     "output_type": "display_data"
    }
   ],
   "source": [
    "plt.figure(figsize = (14,8))\n",
    "df.loc[(pd.DatetimeIndex(df['deleted_at']).month >= 6) & (pd.DatetimeIndex(df['deleted_at']).year == 2020) & (df['marketing_source'] == 'organic_search')]['created_at'].hist(bins=10, label = 'organic_search')\n",
    "df.loc[(pd.DatetimeIndex(df['deleted_at']).month >= 6) & (pd.DatetimeIndex(df['deleted_at']).year == 2020) & (df['marketing_source'] == 'direct')]['created_at'].hist(bins=10, label = 'direct')\n",
    "df.loc[(pd.DatetimeIndex(df['deleted_at']).month >= 6) & (pd.DatetimeIndex(df['deleted_at']).year == 2020) & (df['marketing_source'] == 'paid_search')]['created_at'].hist(bins=10, label = 'paid_search')\n",
    "plt.legend()\n",
    "plt.show()"
   ]
  },
  {
   "cell_type": "code",
   "execution_count": 162,
   "id": "7980f7e0-5b95-4046-95f4-2d6bda84a994",
   "metadata": {},
   "outputs": [
    {
     "data": {
      "image/png": "[encoded data removed]",
      "text/plain": [
       "<Figure size 1008x576 with 1 Axes>"
      ]
     },
     "metadata": {
      "needs_background": "light"
     },
     "output_type": "display_data"
    }
   ],
   "source": [
    "plt.figure(figsize = (14,8))\n",
    "df.loc[(pd.DatetimeIndex(df['deleted_at']).month >= 6) & (pd.DatetimeIndex(df['deleted_at']).year == 2020) & (df['marketing_source'] == 'organic_search')]['average_ticket'].hist(bins=10, legend = 'organic_search')\n",
    "df.loc[(pd.DatetimeIndex(df['deleted_at']).month >= 6) & (pd.DatetimeIndex(df['deleted_at']).year == 2020) & (df['marketing_source'] == 'direct')]['average_ticket'].hist(bins=10, legend = 'direct')\n",
    "df.loc[(pd.DatetimeIndex(df['deleted_at']).month >= 6) & (pd.DatetimeIndex(df['deleted_at']).year == 2020) & (df['marketing_source'] == 'paid_search')]['average_ticket'].hist(bins=10, legend = 'paid_search')\n",
    "plt.show()"
   ]
  },
  {
   "cell_type": "code",
   "execution_count": 241,
   "id": "5bb5780a-3454-47ef-afa8-93a800a721fa",
   "metadata": {},
   "outputs": [
    {
     "data": {
      "image/png": "[encoded data removed]",
      "text/plain": [
       "<Figure size 1008x576 with 1 Axes>"
      ]
     },
     "metadata": {
      "needs_background": "light"
     },
     "output_type": "display_data"
    }
   ],
   "source": [
    "plt.figure(figsize = (14,8))\n",
    "df.loc[(pd.DatetimeIndex(df['deleted_at']).month >= 6) & (pd.DatetimeIndex(df['deleted_at']).year == 2020) & (df['marketing_source'] == 'organic_search')]['all_orders'].hist(bins=10,alpha = 0.5, label = 'organic_search')\n",
    "df.loc[(pd.DatetimeIndex(df['deleted_at']).month >= 6) & (pd.DatetimeIndex(df['deleted_at']).year == 2020) & (df['marketing_source'] == 'direct')]['all_orders'].hist(bins=10, alpha = 0.5,label = 'direct')\n",
    "df.loc[(pd.DatetimeIndex(df['deleted_at']).month >= 6) & (pd.DatetimeIndex(df['deleted_at']).year == 2020) & (df['marketing_source'] == 'paid_search')]['all_orders'].hist(bins=10, alpha = 0.5,label = 'paid_search')\n",
    "plt.legend()\n",
    "plt.show()"
   ]
  },
  {
   "cell_type": "code",
   "execution_count": 174,
   "id": "eb504069-dd44-43e6-90cd-ce9d6f47bd61",
   "metadata": {},
   "outputs": [],
   "source": [
    "#tempo de permanência dessas pessoas na assinatura\n",
    "\n",
    "df2 = df.loc[(pd.DatetimeIndex(df['deleted_at']).month >= 6) & (pd.DatetimeIndex(df['deleted_at']).year == 2020)].copy()\n",
    "\n",
    "tempo_de_permanencia = df2['deleted_at'] - df2['created_at']"
   ]
  },
  {
   "cell_type": "code",
   "execution_count": 176,
   "id": "3506e655-b703-4c29-8868-5e12b700a0ee",
   "metadata": {},
   "outputs": [],
   "source": [
    "df2['tempo_permanencia'] = tempo_de_permanencia"
   ]
  },
  {
   "cell_type": "code",
   "execution_count": 194,
   "id": "6b1c0499-55b8-41ab-b8ea-1458fed99e02",
   "metadata": {},
   "outputs": [
    {
     "data": {
      "image/png": "[encoded data removed]",
      "text/plain": [
       "<Figure size 1008x576 with 1 Axes>"
      ]
     },
     "metadata": {
      "needs_background": "light"
     },
     "output_type": "display_data"
    }
   ],
   "source": [
    "plt.figure(figsize = (14,8))\n",
    "df2['tempo_permanencia'].dt.days.hist(bins=15)\n",
    "plt.xlabel('Dias de permanência')\n",
    "plt.ylabel('contagens')\n",
    "plt.show()"
   ]
  },
  {
   "cell_type": "code",
   "execution_count": 263,
   "id": "c12f6ee0-bfb8-412d-a044-1eac0b088ab7",
   "metadata": {},
   "outputs": [
    {
     "data": {
      "image/png": "[encoded data removed]",
      "text/plain": [
       "<Figure size 1008x576 with 1 Axes>"
      ]
     },
     "metadata": {
      "needs_background": "light"
     },
     "output_type": "display_data"
    }
   ],
   "source": [
    "#tempo de permanencia das pessoas que cancelaram suas assinaturas em 2020\n",
    "plt.figure(figsize = (14,8))\n",
    "df2['tempo_permanencia'].dt.days.hist(bins=12)\n",
    "plt.title('Tempo de permanencia das assinaturas canceladas no ano de 2020')\n",
    "plt.xlabel('Dias de permanência')\n",
    "plt.ylabel('contagens')\n",
    "plt.show()"
   ]
  },
  {
   "cell_type": "code",
   "execution_count": 262,
   "id": "26167d98-4c0b-481d-8d87-ba4bffa388f3",
   "metadata": {},
   "outputs": [
    {
     "data": {
      "image/png": "[encoded data removed]",
      "text/plain": [
       "<Figure size 1008x576 with 1 Axes>"
      ]
     },
     "metadata": {
      "needs_background": "light"
     },
     "output_type": "display_data"
    }
   ],
   "source": [
    "plt.figure(figsize = (14,8))\n",
    "df2.loc[pd.DatetimeIndex(df2['created_at']).year == 2020]['tempo_permanencia'].dt.days.hist(bins=10)\n",
    "plt.title('Tempo de permanência das assinaturas que foram criadas e canceladas no ano de 2020')\n",
    "plt.xlabel('Dias')\n",
    "plt.ylabel('Contagem')\n",
    "plt.show()"
   ]
  },
  {
   "cell_type": "markdown",
   "id": "38c9a297-5eb2-44d4-9653-54e4bc0e2a15",
   "metadata": {
    "jp-MarkdownHeadingCollapsed": true,
    "tags": []
   },
   "source": [
    "## Estudo do perfil dos clientes que cancelaram sua assinatura em 2019"
   ]
  },
  {
   "cell_type": "code",
   "execution_count": null,
   "id": "2873d3c2-c0b6-4999-a773-066cbbde6e34",
   "metadata": {},
   "outputs": [],
   "source": []
  },
  {
   "cell_type": "code",
   "execution_count": 265,
   "id": "a9eebc3b-c2a1-419f-b3bb-bd6e80f75979",
   "metadata": {},
   "outputs": [
    {
     "data": {
      "text/html": [
       "<div>\n",
       "<style scoped>\n",
       "    .dataframe tbody tr th:only-of-type {\n",
       "        vertical-align: middle;\n",
       "    }\n",
       "\n",
       "    .dataframe tbody tr th {\n",
       "        vertical-align: top;\n",
       "    }\n",
       "\n",
       "    .dataframe thead th {\n",
       "        text-align: right;\n",
       "    }\n",
       "</style>\n",
       "<table border=\"1\" class=\"dataframe\">\n",
       "  <thead>\n",
       "    <tr style=\"text-align: right;\">\n",
       "      <th></th>\n",
       "      <th>id</th>\n",
       "      <th>created_at</th>\n",
       "      <th>updated_at</th>\n",
       "      <th>deleted_at</th>\n",
       "      <th>name_hash</th>\n",
       "      <th>email_hash</th>\n",
       "      <th>address_hash</th>\n",
       "      <th>birth_date</th>\n",
       "      <th>status</th>\n",
       "      <th>version</th>\n",
       "      <th>city</th>\n",
       "      <th>state</th>\n",
       "      <th>neighborhood</th>\n",
       "      <th>last_date_purchase</th>\n",
       "      <th>average_ticket</th>\n",
       "      <th>items_quantity</th>\n",
       "      <th>all_revenue</th>\n",
       "      <th>all_orders</th>\n",
       "      <th>recency</th>\n",
       "      <th>marketing_source</th>\n",
       "    </tr>\n",
       "  </thead>\n",
       "  <tbody>\n",
       "    <tr>\n",
       "      <th>0</th>\n",
       "      <td>8bf7960e-3b93-468b-856e-6c6c5b56f52b</td>\n",
       "      <td>2017-08-15 07:05:00</td>\n",
       "      <td>2021-01-14 11:23:00</td>\n",
       "      <td>NaT</td>\n",
       "      <td>312d206168a318614897e8ccac43bff9</td>\n",
       "      <td>83eb3aed9a44377df80ce876dce92c9a</td>\n",
       "      <td>8b4bfaa0cbc41a16f46da15ddcd6a907</td>\n",
       "      <td>07/10/74 12:00 AM</td>\n",
       "      <td>active</td>\n",
       "      <td>2.31.7</td>\n",
       "      <td>Peixoto da Praia</td>\n",
       "      <td>AM</td>\n",
       "      <td>Aparecida 7ª Seção</td>\n",
       "      <td>2021-01-14 11:23:00</td>\n",
       "      <td>151.142942</td>\n",
       "      <td>10</td>\n",
       "      <td>906.857651</td>\n",
       "      <td>6</td>\n",
       "      <td>35</td>\n",
       "      <td>crm</td>\n",
       "    </tr>\n",
       "  </tbody>\n",
       "</table>\n",
       "</div>"
      ],
      "text/plain": [
       "                                     id          created_at  \\\n",
       "0  8bf7960e-3b93-468b-856e-6c6c5b56f52b 2017-08-15 07:05:00   \n",
       "\n",
       "           updated_at deleted_at                         name_hash  \\\n",
       "0 2021-01-14 11:23:00        NaT  312d206168a318614897e8ccac43bff9   \n",
       "\n",
       "                         email_hash                      address_hash  \\\n",
       "0  83eb3aed9a44377df80ce876dce92c9a  8b4bfaa0cbc41a16f46da15ddcd6a907   \n",
       "\n",
       "          birth_date  status version               city state  \\\n",
       "0  07/10/74 12:00 AM  active  2.31.7   Peixoto da Praia    AM   \n",
       "\n",
       "         neighborhood  last_date_purchase  average_ticket  items_quantity  \\\n",
       "0  Aparecida 7ª Seção 2021-01-14 11:23:00      151.142942              10   \n",
       "\n",
       "   all_revenue  all_orders  recency marketing_source  \n",
       "0   906.857651           6       35              crm  "
      ]
     },
     "execution_count": 265,
     "metadata": {},
     "output_type": "execute_result"
    }
   ],
   "source": [
    "df.head(1)"
   ]
  },
  {
   "cell_type": "code",
   "execution_count": 271,
   "id": "e1f9f0a5-1457-4c92-978d-fb7315e1c10c",
   "metadata": {},
   "outputs": [],
   "source": [
    "#Removendo colunas desnecessarias para a analise\n",
    "limpo_df = df.drop(['id','name_hash','email_hash','address_hash','version','city','state','neighborhood'],axis = 1)"
   ]
  },
  {
   "cell_type": "code",
   "execution_count": 272,
   "id": "e4198fbd-a985-4170-b288-db9af2f218be",
   "metadata": {},
   "outputs": [
    {
     "data": {
      "text/html": [
       "<div>\n",
       "<style scoped>\n",
       "    .dataframe tbody tr th:only-of-type {\n",
       "        vertical-align: middle;\n",
       "    }\n",
       "\n",
       "    .dataframe tbody tr th {\n",
       "        vertical-align: top;\n",
       "    }\n",
       "\n",
       "    .dataframe thead th {\n",
       "        text-align: right;\n",
       "    }\n",
       "</style>\n",
       "<table border=\"1\" class=\"dataframe\">\n",
       "  <thead>\n",
       "    <tr style=\"text-align: right;\">\n",
       "      <th></th>\n",
       "      <th>created_at</th>\n",
       "      <th>updated_at</th>\n",
       "      <th>deleted_at</th>\n",
       "      <th>birth_date</th>\n",
       "      <th>status</th>\n",
       "      <th>last_date_purchase</th>\n",
       "      <th>average_ticket</th>\n",
       "      <th>items_quantity</th>\n",
       "      <th>all_revenue</th>\n",
       "      <th>all_orders</th>\n",
       "      <th>recency</th>\n",
       "      <th>marketing_source</th>\n",
       "    </tr>\n",
       "  </thead>\n",
       "  <tbody>\n",
       "    <tr>\n",
       "      <th>0</th>\n",
       "      <td>2017-08-15 07:05:00</td>\n",
       "      <td>2021-01-14 11:23:00</td>\n",
       "      <td>NaT</td>\n",
       "      <td>07/10/74 12:00 AM</td>\n",
       "      <td>active</td>\n",
       "      <td>2021-01-14 11:23:00</td>\n",
       "      <td>151.142942</td>\n",
       "      <td>10</td>\n",
       "      <td>906.857651</td>\n",
       "      <td>6</td>\n",
       "      <td>35</td>\n",
       "      <td>crm</td>\n",
       "    </tr>\n",
       "  </tbody>\n",
       "</table>\n",
       "</div>"
      ],
      "text/plain": [
       "           created_at          updated_at deleted_at         birth_date  \\\n",
       "0 2017-08-15 07:05:00 2021-01-14 11:23:00        NaT  07/10/74 12:00 AM   \n",
       "\n",
       "   status  last_date_purchase  average_ticket  items_quantity  all_revenue  \\\n",
       "0  active 2021-01-14 11:23:00      151.142942              10   906.857651   \n",
       "\n",
       "   all_orders  recency marketing_source  \n",
       "0           6       35              crm  "
      ]
     },
     "execution_count": 272,
     "metadata": {},
     "output_type": "execute_result"
    }
   ],
   "source": [
    "limpo_df.head(1)"
   ]
  },
  {
   "cell_type": "code",
   "execution_count": 273,
   "id": "d5aff238-c6cc-408a-aca3-7f2068361a98",
   "metadata": {},
   "outputs": [
    {
     "data": {
      "text/plain": [
       "(10000, 12)"
      ]
     },
     "execution_count": 273,
     "metadata": {},
     "output_type": "execute_result"
    }
   ],
   "source": [
    "limpo_df.shape"
   ]
  },
  {
   "cell_type": "code",
   "execution_count": 277,
   "id": "38b368c6-4373-4322-9d6a-02dc23d0968a",
   "metadata": {},
   "outputs": [
    {
     "data": {
      "text/html": [
       "<div>\n",
       "<style scoped>\n",
       "    .dataframe tbody tr th:only-of-type {\n",
       "        vertical-align: middle;\n",
       "    }\n",
       "\n",
       "    .dataframe tbody tr th {\n",
       "        vertical-align: top;\n",
       "    }\n",
       "\n",
       "    .dataframe thead th {\n",
       "        text-align: right;\n",
       "    }\n",
       "</style>\n",
       "<table border=\"1\" class=\"dataframe\">\n",
       "  <thead>\n",
       "    <tr style=\"text-align: right;\">\n",
       "      <th></th>\n",
       "      <th>created_at</th>\n",
       "      <th>updated_at</th>\n",
       "      <th>deleted_at</th>\n",
       "      <th>birth_date</th>\n",
       "      <th>status</th>\n",
       "      <th>last_date_purchase</th>\n",
       "      <th>average_ticket</th>\n",
       "      <th>items_quantity</th>\n",
       "      <th>all_revenue</th>\n",
       "      <th>all_orders</th>\n",
       "      <th>recency</th>\n",
       "      <th>marketing_source</th>\n",
       "    </tr>\n",
       "  </thead>\n",
       "  <tbody>\n",
       "    <tr>\n",
       "      <th>0</th>\n",
       "      <td>2982</td>\n",
       "      <td>478</td>\n",
       "      <td>1482</td>\n",
       "      <td>4098</td>\n",
       "      <td>0</td>\n",
       "      <td>510</td>\n",
       "      <td>151.142942</td>\n",
       "      <td>9</td>\n",
       "      <td>906.857651</td>\n",
       "      <td>6</td>\n",
       "      <td>29</td>\n",
       "      <td>0</td>\n",
       "    </tr>\n",
       "    <tr>\n",
       "      <th>1</th>\n",
       "      <td>7778</td>\n",
       "      <td>467</td>\n",
       "      <td>6742</td>\n",
       "      <td>4006</td>\n",
       "      <td>2</td>\n",
       "      <td>502</td>\n",
       "      <td>236.991790</td>\n",
       "      <td>3</td>\n",
       "      <td>236.991790</td>\n",
       "      <td>1</td>\n",
       "      <td>35</td>\n",
       "      <td>3</td>\n",
       "    </tr>\n",
       "    <tr>\n",
       "      <th>2</th>\n",
       "      <td>6127</td>\n",
       "      <td>466</td>\n",
       "      <td>6743</td>\n",
       "      <td>1664</td>\n",
       "      <td>0</td>\n",
       "      <td>501</td>\n",
       "      <td>211.955597</td>\n",
       "      <td>12</td>\n",
       "      <td>2331.511572</td>\n",
       "      <td>11</td>\n",
       "      <td>36</td>\n",
       "      <td>3</td>\n",
       "    </tr>\n",
       "    <tr>\n",
       "      <th>3</th>\n",
       "      <td>4879</td>\n",
       "      <td>472</td>\n",
       "      <td>6744</td>\n",
       "      <td>6983</td>\n",
       "      <td>0</td>\n",
       "      <td>504</td>\n",
       "      <td>204.113227</td>\n",
       "      <td>7</td>\n",
       "      <td>1224.679359</td>\n",
       "      <td>6</td>\n",
       "      <td>33</td>\n",
       "      <td>3</td>\n",
       "    </tr>\n",
       "    <tr>\n",
       "      <th>4</th>\n",
       "      <td>4631</td>\n",
       "      <td>484</td>\n",
       "      <td>6745</td>\n",
       "      <td>4036</td>\n",
       "      <td>0</td>\n",
       "      <td>515</td>\n",
       "      <td>252.940997</td>\n",
       "      <td>8</td>\n",
       "      <td>2023.527980</td>\n",
       "      <td>8</td>\n",
       "      <td>25</td>\n",
       "      <td>0</td>\n",
       "    </tr>\n",
       "    <tr>\n",
       "      <th>...</th>\n",
       "      <td>...</td>\n",
       "      <td>...</td>\n",
       "      <td>...</td>\n",
       "      <td>...</td>\n",
       "      <td>...</td>\n",
       "      <td>...</td>\n",
       "      <td>...</td>\n",
       "      <td>...</td>\n",
       "      <td>...</td>\n",
       "      <td>...</td>\n",
       "      <td>...</td>\n",
       "      <td>...</td>\n",
       "    </tr>\n",
       "    <tr>\n",
       "      <th>9995</th>\n",
       "      <td>3141</td>\n",
       "      <td>517</td>\n",
       "      <td>3502</td>\n",
       "      <td>5446</td>\n",
       "      <td>0</td>\n",
       "      <td>533</td>\n",
       "      <td>215.079785</td>\n",
       "      <td>4</td>\n",
       "      <td>1075.398927</td>\n",
       "      <td>5</td>\n",
       "      <td>12</td>\n",
       "      <td>4</td>\n",
       "    </tr>\n",
       "    <tr>\n",
       "      <th>9996</th>\n",
       "      <td>4354</td>\n",
       "      <td>484</td>\n",
       "      <td>3503</td>\n",
       "      <td>5511</td>\n",
       "      <td>0</td>\n",
       "      <td>515</td>\n",
       "      <td>254.525826</td>\n",
       "      <td>9</td>\n",
       "      <td>2290.732434</td>\n",
       "      <td>9</td>\n",
       "      <td>25</td>\n",
       "      <td>3</td>\n",
       "    </tr>\n",
       "    <tr>\n",
       "      <th>9997</th>\n",
       "      <td>2973</td>\n",
       "      <td>457</td>\n",
       "      <td>3504</td>\n",
       "      <td>309</td>\n",
       "      <td>0</td>\n",
       "      <td>496</td>\n",
       "      <td>208.741902</td>\n",
       "      <td>7</td>\n",
       "      <td>1252.451411</td>\n",
       "      <td>6</td>\n",
       "      <td>40</td>\n",
       "      <td>4</td>\n",
       "    </tr>\n",
       "    <tr>\n",
       "      <th>9998</th>\n",
       "      <td>1880</td>\n",
       "      <td>468</td>\n",
       "      <td>8435</td>\n",
       "      <td>4674</td>\n",
       "      <td>0</td>\n",
       "      <td>503</td>\n",
       "      <td>211.174796</td>\n",
       "      <td>8</td>\n",
       "      <td>0.000000</td>\n",
       "      <td>0</td>\n",
       "      <td>34</td>\n",
       "      <td>1</td>\n",
       "    </tr>\n",
       "    <tr>\n",
       "      <th>9999</th>\n",
       "      <td>2051</td>\n",
       "      <td>480</td>\n",
       "      <td>9999</td>\n",
       "      <td>5484</td>\n",
       "      <td>0</td>\n",
       "      <td>512</td>\n",
       "      <td>259.786807</td>\n",
       "      <td>6</td>\n",
       "      <td>2857.654879</td>\n",
       "      <td>11</td>\n",
       "      <td>27</td>\n",
       "      <td>1</td>\n",
       "    </tr>\n",
       "  </tbody>\n",
       "</table>\n",
       "<p>10000 rows × 12 columns</p>\n",
       "</div>"
      ],
      "text/plain": [
       "      created_at  updated_at  deleted_at  birth_date  status  \\\n",
       "0           2982         478        1482        4098       0   \n",
       "1           7778         467        6742        4006       2   \n",
       "2           6127         466        6743        1664       0   \n",
       "3           4879         472        6744        6983       0   \n",
       "4           4631         484        6745        4036       0   \n",
       "...          ...         ...         ...         ...     ...   \n",
       "9995        3141         517        3502        5446       0   \n",
       "9996        4354         484        3503        5511       0   \n",
       "9997        2973         457        3504         309       0   \n",
       "9998        1880         468        8435        4674       0   \n",
       "9999        2051         480        9999        5484       0   \n",
       "\n",
       "      last_date_purchase  average_ticket  items_quantity  all_revenue  \\\n",
       "0                    510      151.142942               9   906.857651   \n",
       "1                    502      236.991790               3   236.991790   \n",
       "2                    501      211.955597              12  2331.511572   \n",
       "3                    504      204.113227               7  1224.679359   \n",
       "4                    515      252.940997               8  2023.527980   \n",
       "...                  ...             ...             ...          ...   \n",
       "9995                 533      215.079785               4  1075.398927   \n",
       "9996                 515      254.525826               9  2290.732434   \n",
       "9997                 496      208.741902               7  1252.451411   \n",
       "9998                 503      211.174796               8     0.000000   \n",
       "9999                 512      259.786807               6  2857.654879   \n",
       "\n",
       "      all_orders  recency  marketing_source  \n",
       "0              6       29                 0  \n",
       "1              1       35                 3  \n",
       "2             11       36                 3  \n",
       "3              6       33                 3  \n",
       "4              8       25                 0  \n",
       "...          ...      ...               ...  \n",
       "9995           5       12                 4  \n",
       "9996           9       25                 3  \n",
       "9997           6       40                 4  \n",
       "9998           0       34                 1  \n",
       "9999          11       27                 1  \n",
       "\n",
       "[10000 rows x 12 columns]"
      ]
     },
     "execution_count": 277,
     "metadata": {},
     "output_type": "execute_result"
    }
   ],
   "source": [
    "limpo_df"
   ]
  },
  {
   "cell_type": "code",
   "execution_count": 276,
   "id": "fc766727-49c3-4a72-97b6-d29abfaf70de",
   "metadata": {},
   "outputs": [
    {
     "name": "stderr",
     "output_type": "stream",
     "text": [
      "C:\\Users\\bateq\\AppData\\Local\\Temp/ipykernel_15744/264815922.py:3: DeprecationWarning: Converting `np.inexact` or `np.floating` to a dtype is deprecated. The current result is `float64` which is not strictly correct.\n",
      "  if limpo_df[coluna].dtype == np.number:\n"
     ]
    }
   ],
   "source": [
    "#convertendo colunas não numericas em numericas\n",
    "for coluna in limpo_df.columns:\n",
    "    if limpo_df[coluna].dtype == np.number:\n",
    "        continue\n",
    "    limpo_df[coluna] = LabelEncoder().fit_transform(limpo_df[coluna])"
   ]
  },
  {
   "cell_type": "code",
   "execution_count": 278,
   "id": "16f46b02-6f84-4b89-9841-510d7056b37c",
   "metadata": {},
   "outputs": [],
   "source": [
    "#scaled the data\n",
    "X = limpo_df.drop('status',axis=1)\n",
    "y = limpo_df['status']\n",
    "\n",
    "X = StandardScaler().fit_transform(X)"
   ]
  },
  {
   "cell_type": "code",
   "execution_count": 279,
   "id": "1a0e6544-d7df-4935-be9e-c8269f4fc1d9",
   "metadata": {},
   "outputs": [],
   "source": [
    "X_train, x_test, y_train, y_test = train_test_split(X,y, test_size=0.2, random_state = 42)"
   ]
  },
  {
   "cell_type": "code",
   "execution_count": 281,
   "id": "65930e7a-b7f4-4f70-b592-ef1493f8a69c",
   "metadata": {},
   "outputs": [
    {
     "name": "stderr",
     "output_type": "stream",
     "text": [
      "C:\\Users\\bateq\\anaconda3\\lib\\site-packages\\sklearn\\linear_model\\_logistic.py:763: ConvergenceWarning: lbfgs failed to converge (status=1):\n",
      "STOP: TOTAL NO. of ITERATIONS REACHED LIMIT.\n",
      "\n",
      "Increase the number of iterations (max_iter) or scale the data as shown in:\n",
      "    https://scikit-learn.org/stable/modules/preprocessing.html\n",
      "Please also refer to the documentation for alternative solver options:\n",
      "    https://scikit-learn.org/stable/modules/linear_model.html#logistic-regression\n",
      "  n_iter_i = _check_optimize_result(\n"
     ]
    },
    {
     "data": {
      "text/plain": [
       "LogisticRegression()"
      ]
     },
     "execution_count": 281,
     "metadata": {},
     "output_type": "execute_result"
    }
   ],
   "source": [
    "model = LogisticRegression()\n",
    "\n",
    "model.fit(X_train, y_train)\n"
   ]
  },
  {
   "cell_type": "code",
   "execution_count": 284,
   "id": "5f6b8dd8-7726-4489-9679-d5442f2ddc39",
   "metadata": {},
   "outputs": [
    {
     "name": "stdout",
     "output_type": "stream",
     "text": [
      "[0 0 0 ... 0 0 0]\n"
     ]
    }
   ],
   "source": [
    "predictions = model.predict(x_test)\n",
    "\n",
    "print(predictions)"
   ]
  },
  {
   "cell_type": "code",
   "execution_count": 286,
   "id": "5ee36eb1-072b-467d-9214-15c5cc209e8b",
   "metadata": {},
   "outputs": [
    {
     "name": "stdout",
     "output_type": "stream",
     "text": [
      "              precision    recall  f1-score   support\n",
      "\n",
      "           0       0.90      1.00      0.95      1715\n",
      "           1       1.00      0.98      0.99        97\n",
      "           2       0.00      0.00      0.00       188\n",
      "\n",
      "    accuracy                           0.91      2000\n",
      "   macro avg       0.63      0.66      0.65      2000\n",
      "weighted avg       0.82      0.91      0.86      2000\n",
      "\n"
     ]
    },
    {
     "name": "stderr",
     "output_type": "stream",
     "text": [
      "C:\\Users\\bateq\\anaconda3\\lib\\site-packages\\sklearn\\metrics\\_classification.py:1248: UndefinedMetricWarning: Precision and F-score are ill-defined and being set to 0.0 in labels with no predicted samples. Use `zero_division` parameter to control this behavior.\n",
      "  _warn_prf(average, modifier, msg_start, len(result))\n",
      "C:\\Users\\bateq\\anaconda3\\lib\\site-packages\\sklearn\\metrics\\_classification.py:1248: UndefinedMetricWarning: Precision and F-score are ill-defined and being set to 0.0 in labels with no predicted samples. Use `zero_division` parameter to control this behavior.\n",
      "  _warn_prf(average, modifier, msg_start, len(result))\n",
      "C:\\Users\\bateq\\anaconda3\\lib\\site-packages\\sklearn\\metrics\\_classification.py:1248: UndefinedMetricWarning: Precision and F-score are ill-defined and being set to 0.0 in labels with no predicted samples. Use `zero_division` parameter to control this behavior.\n",
      "  _warn_prf(average, modifier, msg_start, len(result))\n"
     ]
    }
   ],
   "source": [
    "print(classification_report(y_test, predictions))"
   ]
  },
  {
   "cell_type": "code",
   "execution_count": 287,
   "id": "3d15e29f-9f11-45de-a408-a2ee414524fb",
   "metadata": {},
   "outputs": [
    {
     "ename": "ModuleNotFoundError",
     "evalue": "No module named 'pandas_profiling'",
     "output_type": "error",
     "traceback": [
      "\u001b[1;31m---------------------------------------------------------------------------\u001b[0m",
      "\u001b[1;31mModuleNotFoundError\u001b[0m                       Traceback (most recent call last)",
      "\u001b[1;32m~\\AppData\\Local\\Temp/ipykernel_15744/1591302161.py\u001b[0m in \u001b[0;36m<module>\u001b[1;34m\u001b[0m\n\u001b[1;32m----> 1\u001b[1;33m \u001b[1;32mimport\u001b[0m \u001b[0mpandas_profiling\u001b[0m\u001b[1;33m\u001b[0m\u001b[1;33m\u001b[0m\u001b[0m\n\u001b[0m",
      "\u001b[1;31mModuleNotFoundError\u001b[0m: No module named 'pandas_profiling'"
     ]
    }
   ],
   "source": [
    "import pandas_profiling"
   ]
  },
  {
   "cell_type": "code",
   "execution_count": null,
   "id": "0b413e56-cac3-4c3e-be84-6e527da95fa1",
   "metadata": {},
   "outputs": [],
   "source": []
  }
 ],
 "metadata": {
  "kernelspec": {
   "display_name": "Python 3 (ipykernel)",
   "language": "python",
   "name": "python3"
  },
  "language_info": {
   "codemirror_mode": {
    "name": "ipython",
    "version": 3
   },
   "file_extension": ".py",
   "mimetype": "text/x-python",
   "name": "python",
   "nbconvert_exporter": "python",
   "pygments_lexer": "ipython3",
   "version": "3.9.7"
  }
 },
 "nbformat": 4,
 "nbformat_minor": 5
}
